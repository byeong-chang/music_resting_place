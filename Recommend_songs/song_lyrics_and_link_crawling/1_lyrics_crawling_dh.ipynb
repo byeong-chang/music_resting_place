{
 "cells": [
  {
   "cell_type": "code",
   "execution_count": 3,
   "metadata": {},
   "outputs": [],
   "source": [
    "#!pip install selenium\n",
    "# 주의사항 : 노래 제목 텍스트파일에 입력 종료 후 아래에 빈 칸이 남지 않도록 하기"
   ]
  },
  {
   "cell_type": "code",
   "execution_count": 8,
   "metadata": {},
   "outputs": [
    {
     "name": "stderr",
     "output_type": "stream",
     "text": [
      "C:\\Users\\Playdata\\AppData\\Local\\Temp\\ipykernel_18664\\532426960.py:14: DeprecationWarning: executable_path has been deprecated, please pass in a Service object\n",
      "  driver = webdriver.Edge(path+'edgedriver_win64/msedgedriver.exe') # 개인에게 맞는 경로 수정 필요\n"
     ]
    }
   ],
   "source": [
    "from selenium import webdriver\n",
    "from selenium.webdriver.common.by import By\n",
    "from selenium.webdriver.common.keys import Keys\n",
    "from selenium.webdriver.chrome.service import Service\n",
    "from selenium.webdriver.support.select import Select\n",
    "from selenium.webdriver.edge.options import Options\n",
    "from selenium.webdriver.common.alert import Alert\n",
    "from bs4 import BeautifulSoup\n",
    "import time     \n",
    "import pandas as pd     \n",
    "\n",
    "\n",
    "path = 'C:/playdata/DL_project/music_resting_place_ver_dh/3. 노래 가사/'\n",
    "driver = webdriver.Edge(path+'edgedriver_win64/msedgedriver.exe') # 개인에게 맞는 경로 수정 필요\n",
    "song_list = []\n",
    "music_df = pd.DataFrame(columns=['lyrics'])\n",
    "with open(path+\"sad_and_comforting_song_lists.txt\", \"r\", encoding='utf-8') as f:\n",
    "    for line in f:\n",
    "        song_list.append(line.strip()) # 저장해둔 노래 리스트에서 한 곡씩 요소화\n",
    "\n",
    "for i in song_list:\n",
    "    driver.get(url='https://www.melon.com/')\n",
    "    query = driver.find_element(By.CLASS_NAME, \"ui-autocomplete-input\") # 검색창\n",
    "    query.send_keys(f'{i}') # 리스트에서 가져온 한 곡을 타이핑\n",
    "    query.send_keys(Keys.RETURN) # 검색\n",
    "    time.sleep(1)\n",
    "\n",
    "    driver.execute_script('window.scrollTo(0, 500)')\n",
    "    driver.find_element(By.XPATH, '//*[@id=\"conts\"]/div[*]/div/ul/li/dl/dd[1]/a').click() # 가사 란 클릭\n",
    "    driver.execute_script('window.scrollTo(0, 500)')\n",
    "    time.sleep(1)\n",
    "\n",
    "    driver.find_element(By.XPATH, '//*[@id=\"lyricArea\"]/button').click()\n",
    "    time.sleep(1)\n",
    "    lyrics = driver.find_element(By.ID, 'd_video_summary')\n",
    "    time.sleep(1)\n",
    "    get_lyrics = lyrics.text\n",
    "    music_df.loc[f'{i}'] = get_lyrics\n",
    "driver.close()\n",
    "\n",
    "#Alert(driver).accept()\n",
    "#Alert(driver).dismiss()\n",
    "#Alert(driver).text\n",
    "\n",
    "music_df.to_csv(path+'sad_and_comforting_music_lyrics.csv')"
   ]
  },
  {
   "cell_type": "code",
   "execution_count": null,
   "metadata": {},
   "outputs": [],
   "source": [
    "# 번역\n",
    "from googletrans import Translator\n",
    "import pandas as pd\n",
    "translator = Translator()\n",
    "\n",
    "df = pd.read_csv('playdata_project/music_resting_place/Recommend_songs/lyrics_v2.csv', encoding='utf-8')\n",
    "# print(df.iloc[170])\n",
    "for i in range(0, 171):\n",
    "    input_string = df.iloc[i, 1]\n",
    "    output_string = translator.translate(input_string, dest='ko', src='en')\n",
    "    df.iloc[i, 1] = output_string.text\n",
    "df.to_csv('playdata_project/music_resting_place/Recommend_songs/translated_lyrics_v2.csv', index=False)"
   ]
  }
 ],
 "metadata": {
  "kernelspec": {
   "display_name": "Python 3 (ipykernel)",
   "language": "python",
   "name": "python3"
  },
  "language_info": {
   "codemirror_mode": {
    "name": "ipython",
    "version": 3
   },
   "file_extension": ".py",
   "mimetype": "text/x-python",
   "name": "python",
   "nbconvert_exporter": "python",
   "pygments_lexer": "ipython3",
   "version": "3.9.13"
  }
 },
 "nbformat": 4,
 "nbformat_minor": 2
}
